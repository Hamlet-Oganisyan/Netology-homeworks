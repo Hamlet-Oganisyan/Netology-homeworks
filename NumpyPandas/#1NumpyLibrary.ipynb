{
 "cells": [
  {
   "cell_type": "markdown",
   "metadata": {},
   "source": [
    "### Задание 1"
   ]
  },
  {
   "cell_type": "code",
   "execution_count": 142,
   "metadata": {},
   "outputs": [],
   "source": [
    "import numpy as np"
   ]
  },
  {
   "cell_type": "code",
   "execution_count": 4,
   "metadata": {},
   "outputs": [
    {
     "data": {
      "text/plain": [
       "array([19, 18, 17, 16, 15, 14, 13, 12, 11, 10,  9,  8,  7,  6,  5,  4,  3,\n",
       "        2,  1,  0])"
      ]
     },
     "execution_count": 4,
     "metadata": {},
     "output_type": "execute_result"
    }
   ],
   "source": [
    "N=20\n",
    "N=np.array(range(20))\n",
    "N[::-1]"
   ]
  },
  {
   "cell_type": "markdown",
   "metadata": {},
   "source": [
    "### Задание 2"
   ]
  },
  {
   "cell_type": "code",
   "execution_count": 5,
   "metadata": {},
   "outputs": [
    {
     "name": "stdout",
     "output_type": "stream",
     "text": [
      "[[15  0  0  0  0  0  0  0  0  0  0  0  0  0  0]\n",
      " [ 0 14  0  0  0  0  0  0  0  0  0  0  0  0  0]\n",
      " [ 0  0 13  0  0  0  0  0  0  0  0  0  0  0  0]\n",
      " [ 0  0  0 12  0  0  0  0  0  0  0  0  0  0  0]\n",
      " [ 0  0  0  0 11  0  0  0  0  0  0  0  0  0  0]\n",
      " [ 0  0  0  0  0 10  0  0  0  0  0  0  0  0  0]\n",
      " [ 0  0  0  0  0  0  9  0  0  0  0  0  0  0  0]\n",
      " [ 0  0  0  0  0  0  0  8  0  0  0  0  0  0  0]\n",
      " [ 0  0  0  0  0  0  0  0  7  0  0  0  0  0  0]\n",
      " [ 0  0  0  0  0  0  0  0  0  6  0  0  0  0  0]\n",
      " [ 0  0  0  0  0  0  0  0  0  0  5  0  0  0  0]\n",
      " [ 0  0  0  0  0  0  0  0  0  0  0  4  0  0  0]\n",
      " [ 0  0  0  0  0  0  0  0  0  0  0  0  3  0  0]\n",
      " [ 0  0  0  0  0  0  0  0  0  0  0  0  0  2  0]\n",
      " [ 0  0  0  0  0  0  0  0  0  0  0  0  0  0  1]]\n",
      "Сумма значений по диагонали: 120\n"
     ]
    }
   ],
   "source": [
    "m = np.diag(np.arange(15,0,-1), k=0)\n",
    "m_diag = np.asarray(m)\n",
    "print(m)\n",
    "\n",
    "print('Сумма значений по диагонали:', np.trace(m_diag))"
   ]
  },
  {
   "cell_type": "markdown",
   "metadata": {},
   "source": [
    "### Задание 3"
   ]
  },
  {
   "cell_type": "code",
   "execution_count": 6,
   "metadata": {},
   "outputs": [
    {
     "data": {
      "text/plain": [
       "array([ 0.46666667,  3.84444444, -5.55555556])"
      ]
     },
     "execution_count": 6,
     "metadata": {},
     "output_type": "execute_result"
    }
   ],
   "source": [
    "#Решите систему уравнений:\n",
    "#4x + 2y + z = 4\n",
    "#x + 3y = 12\n",
    "#5y + 4z = -3\n",
    "from numpy import linalg\n",
    "\n",
    "a = np.array([[4, 2, 1], [1, 3, 0], [0, 5, 4]])\n",
    "b = np.array([4, 12, -3])\n",
    " \n",
    "linalg.solve(a, b)"
   ]
  },
  {
   "cell_type": "code",
   "execution_count": 7,
   "metadata": {},
   "outputs": [
    {
     "data": {
      "text/plain": [
       "True"
      ]
     },
     "execution_count": 7,
     "metadata": {},
     "output_type": "execute_result"
    }
   ],
   "source": [
    "#Вручную тоже посчитано, все верно\n",
    "\n",
    "np.allclose( np.dot(a, linalg.solve(a, b)), b )"
   ]
  },
  {
   "cell_type": "markdown",
   "metadata": {},
   "source": [
    "### Задание 4\n",
    "\n"
   ]
  },
  {
   "cell_type": "code",
   "execution_count": 103,
   "metadata": {},
   "outputs": [],
   "source": [
    "users_stats = np.array(\n",
    "    [\n",
    "        [2, 1, 0, 0, 0, 0],\n",
    "        [1, 1, 2, 1, 0, 0],\n",
    "        [2, 0, 1, 0, 0, 0],\n",
    "        [1, 1, 2, 1, 0, 1],\n",
    "        [0, 0, 1, 2, 0, 0],\n",
    "        [0, 0, 0, 0, 0, 5],\n",
    "        [1, 0, 0, 0, 0, 0],\n",
    "        [0, 1, 1, 0, 0, 0],\n",
    "        [0, 0, 0, 1, 1, 3],\n",
    "        [1, 0, 0, 2, 1, 4]\n",
    "    ] \n",
    ")"
   ]
  },
  {
   "cell_type": "code",
   "execution_count": 104,
   "metadata": {},
   "outputs": [],
   "source": [
    "next_user_stats = np.array([0, 1, 2, 0, 0, 0])"
   ]
  },
  {
   "cell_type": "code",
   "execution_count": 173,
   "metadata": {},
   "outputs": [
    {
     "name": "stdout",
     "output_type": "stream",
     "text": [
      "0.19999999999999996\n",
      "0.8451542547285165\n",
      "0.3999999999999999\n",
      "0.7905694150420948\n",
      "0.8799999999999999\n",
      "0.0\n",
      "0.0\n",
      "0.9486832980505138\n",
      "0.0\n",
      "0.0\n"
     ]
    }
   ],
   "source": [
    "def cosine( row, next_user_stats ):\n",
    "    \n",
    "        row_Length = np.linalg.norm( row )\n",
    "        next_user_stats_Length = np.linalg.norm( next_user_stats )\n",
    "        result = np.dot( row, next_user_stats ) / ( row_Length * next_user_stats_Length )\n",
    "        return print(result, sep='\\n')\n",
    "                \n",
    "cos_row = np.apply_along_axis(cosine, 1, users_stats, next_user_stats)\n"
   ]
  },
  {
   "cell_type": "code",
   "execution_count": null,
   "metadata": {},
   "outputs": [],
   "source": []
  },
  {
   "cell_type": "code",
   "execution_count": null,
   "metadata": {},
   "outputs": [],
   "source": []
  }
 ],
 "metadata": {
  "kernelspec": {
   "display_name": "Python 3",
   "language": "python",
   "name": "python3"
  },
  "language_info": {
   "codemirror_mode": {
    "name": "ipython",
    "version": 3
   },
   "file_extension": ".py",
   "mimetype": "text/x-python",
   "name": "python",
   "nbconvert_exporter": "python",
   "pygments_lexer": "ipython3",
   "version": "3.8.5"
  }
 },
 "nbformat": 4,
 "nbformat_minor": 4
}
