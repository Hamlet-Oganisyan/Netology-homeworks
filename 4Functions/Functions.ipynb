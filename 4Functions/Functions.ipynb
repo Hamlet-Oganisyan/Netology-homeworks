{
 "cells": [
  {
   "cell_type": "code",
   "execution_count": 103,
   "metadata": {},
   "outputs": [],
   "source": [
    "documents = [\n",
    "{'type': 'passport', 'number': '2207 876234', 'name': 'Василий Гупкин'},\n",
    "{'type': 'invoice', 'number': '11-2', 'name': 'Геннадий Покемонов'},\n",
    "{'type': 'insurance', 'number': '10006', 'name': 'Аристарх Павлов'}\n",
    "]"
   ]
  },
  {
   "cell_type": "code",
   "execution_count": 104,
   "metadata": {},
   "outputs": [],
   "source": [
    "directories = {\n",
    "'1': ['2207 876234', '11-2'],\n",
    "'2': ['10006'],\n",
    "'3': []\n",
    "}"
   ]
  },
  {
   "cell_type": "markdown",
   "metadata": {},
   "source": [
    "# Задание 1"
   ]
  },
  {
   "cell_type": "code",
   "execution_count": 139,
   "metadata": {},
   "outputs": [
    {
     "name": "stdout",
     "output_type": "stream",
     "text": [
      "Введите команду: з\n",
      "Введена неверная команда !\n",
      "Введите команду: p\n",
      "Введите номер документа: 10006\n",
      "Владелец документа:  Аристарх Павлов\n",
      "Введите команду: s\n",
      "Введите номер документа: 11-2\n",
      "Документ хранится на полке:  1\n",
      "Введите команду: l\n",
      "№ 2207 876234 , тип:  passport , владелец:  Василий Гупкин , полка хранения:  1\n",
      "№ 11-2 , тип:  invoice , владелец:  Геннадий Покемонов , полка хранения:  1\n",
      "№ 10006 , тип:  insurance , владелец:  Аристарх Павлов , полка хранения:  2\n",
      "Введите команду: ads\n",
      "Введите номер доавляемой полки: 77\n",
      "Полка добавлена. Текущий перечень полок:, 1, 2, 3, 78, 45, 47, 22, 777, 77\n",
      "Введите команду: ads\n",
      "Введите номер доавляемой полки: 77\n",
      "Полка с таким номером уже существует. Присвойте другой номер. Текущий перечень полок:, 1, 2, 3, 78, 45, 47, 22, 777, 77\n",
      "Введите команду: ds\n",
      "Введите номер полки на удаление: 44\n",
      "Такой полки не существует. Текущий перечень полок:, 1, 2, 3, 78, 45, 47, 22, 777, 77\n",
      "Введите команду: ds\n",
      "Введите номер полки на удаление: 45\n",
      "Полка удалена. Текущий перечень полок:, 1, 2, 3, 78, 47, 22, 777, 77\n",
      "Введите команду: q\n",
      "Вы завершили работу. До свидания!\n"
     ]
    }
   ],
   "source": [
    "def owners_name():\n",
    "    num_doc = input('Введите номер документа: ')\n",
    "    for x in documents:\n",
    "        if x['number'] == num_doc:\n",
    "            return print('Владелец документа: ', x['name'])\n",
    "    else: \n",
    "        print('Документ не найден в базе')\n",
    "        \n",
    "def find_polka():\n",
    "    num_doc = input('Введите номер документа: ')\n",
    "    for k in directories.items():\n",
    "        if num_doc in k[1]:\n",
    "            return print('Документ хранится на полке: ', k[0])           \n",
    "    else:\n",
    "        print('Документ не найден в базе') \n",
    "        \n",
    "\n",
    "def doc_info():\n",
    "    for x in documents:\n",
    "        print('№', x['number'],',', 'тип: ', x['type'],',', 'владелец: ', x['name'],',', \n",
    "              'полка хранения: ', get_key(directories, x['number']))\n",
    "\n",
    "def add_polka():\n",
    "    num_polki = input('Введите номер доавляемой полки: ')\n",
    "    if num_polki in directories:\n",
    "        return print('Полка с таким номером уже существует. Присвойте другой номер. Текущий перечень полок:',\n",
    "                 *list(directories.keys()), sep= (', '))\n",
    "    directories[num_polki] = []\n",
    "    return print('Полка добавлена. Текущий перечень полок:',\n",
    "                 *list(directories.keys()), sep= (', '))\n",
    "def del_polka():\n",
    "    num_polki = input('Введите номер полки на удаление: ')\n",
    "    if num_polki not in directories:\n",
    "        return print('Такой полки не существует. Текущий перечень полок:',*list(directories.keys()), \n",
    "                 sep= (', '))\n",
    "    if len(directories[num_polki]) == 0:\n",
    "        del(directories[num_polki])\n",
    "        return print('Полка удалена. Текущий перечень полок:',*list(directories.keys()), \n",
    "                 sep= (', '))\n",
    "        \n",
    "    else:\n",
    "        print('На полке есть документы, удалите их перед удалением полки. Текущий перечень полок:',*list(directories.keys()), \n",
    "                 sep= (', '))\n",
    "        \n",
    "command = 0           \n",
    "while command != 'q' :\n",
    "    \n",
    "    command = input('Введите команду: ')\n",
    "    \n",
    "    if command == 'p':\n",
    "        owners_name()\n",
    "    elif command == 's':\n",
    "        s()\n",
    "    elif command == 'l':\n",
    "        doc_info()\n",
    "    elif command == 'ads':\n",
    "        add_polka()\n",
    "    elif command == 'ds':\n",
    "        del_polka()\n",
    "    elif command == 'q':\n",
    "        print('Вы завершили работу. До свидания!')\n",
    "    \n",
    "    else:\n",
    "        print('Введена неверная команда !')"
   ]
  },
  {
   "cell_type": "code",
   "execution_count": null,
   "metadata": {},
   "outputs": [],
   "source": []
  }
 ],
 "metadata": {
  "kernelspec": {
   "display_name": "Python 3",
   "language": "python",
   "name": "python3"
  },
  "language_info": {
   "codemirror_mode": {
    "name": "ipython",
    "version": 3
   },
   "file_extension": ".py",
   "mimetype": "text/x-python",
   "name": "python",
   "nbconvert_exporter": "python",
   "pygments_lexer": "ipython3",
   "version": "3.8.5"
  }
 },
 "nbformat": 4,
 "nbformat_minor": 4
}
