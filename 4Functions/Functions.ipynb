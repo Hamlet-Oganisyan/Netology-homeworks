{
 "cells": [
  {
   "cell_type": "code",
   "execution_count": 365,
   "metadata": {},
   "outputs": [],
   "source": [
    "documents = [\n",
    "{'type': 'passport', 'number': '2207 876234', 'name': 'Василий Гупкин'},\n",
    "{'type': 'invoice', 'number': '11-2', 'name': 'Геннадий Покемонов'},\n",
    "{'type': 'insurance', 'number': '10006', 'name': 'Аристарх Павлов'}\n",
    "]"
   ]
  },
  {
   "cell_type": "code",
   "execution_count": 366,
   "metadata": {},
   "outputs": [],
   "source": [
    "directories = {\n",
    "'1': ['2207 876234', '11-2'],\n",
    "'2': ['10006'],\n",
    "'3': []\n",
    "}"
   ]
  },
  {
   "cell_type": "markdown",
   "metadata": {},
   "source": [
    "# Задание 1"
   ]
  },
  {
   "cell_type": "markdown",
   "metadata": {},
   "source": [
    "### Пункт 1"
   ]
  },
  {
   "cell_type": "code",
   "execution_count": 420,
   "metadata": {},
   "outputs": [
    {
     "name": "stdout",
     "output_type": "stream",
     "text": [
      "Введите команду: p\n",
      "Введите номер документа: 145\n",
      "Документ не найден в базе\n",
      "None\n",
      "Введите команду: 11\n",
      "Введена неверная команда !\n",
      "Введите команду: p\n",
      "Введите номер документа: 10006\n",
      "Владелец документа:  Аристарх Павлов\n",
      "None\n",
      "Введите команду: w\n",
      "Введена неверная команда !\n",
      "Введите команду: q\n",
      "Вы завершили работу. До свидания!\n"
     ]
    }
   ],
   "source": [
    "def p(num_doc):\n",
    "    num_doc = input('Введите номер документа: ')\n",
    "    for x in documents:\n",
    "        if x['number'] == num_doc:\n",
    "            return print('Владелец документа: ', x['name'])\n",
    "    else: \n",
    "        print('Документ не найден в базе')\n",
    "\n",
    "command = 0           \n",
    "while command != 'q' :\n",
    "    command = input('Введите команду: ')\n",
    "    \n",
    "    if command == 'p':\n",
    "        print(p(num_doc)) \n",
    "    \n",
    "    elif command == 'q':\n",
    "        print('Вы завершили работу. До свидания!')\n",
    "    \n",
    "    else:\n",
    "        print('Введена неверная команда !')\n",
    "        \n",
    "         "
   ]
  },
  {
   "cell_type": "markdown",
   "metadata": {},
   "source": [
    "### Пункт 2"
   ]
  },
  {
   "cell_type": "code",
   "execution_count": 421,
   "metadata": {},
   "outputs": [
    {
     "name": "stdout",
     "output_type": "stream",
     "text": [
      "Введите команду: s\n",
      "Введите номер документа: 145\n",
      "Документ не найден в базе\n",
      "None\n",
      "Введите команду: s\n",
      "Введите номер документа: 11-2\n",
      "Документ хранится на полке:  1\n",
      "None\n",
      "Введите команду: w\n",
      "Введена неверная команда !\n",
      "Введите команду: q\n",
      "Вы завершили работу. До свидания!\n"
     ]
    }
   ],
   "source": [
    "def s(directories):\n",
    "    num_doc = input('Введите номер документа: ')\n",
    "    for k in directories.items():\n",
    "        if num_doc in k[1]:\n",
    "            return print('Документ хранится на полке: ', k[0])           \n",
    "    else:\n",
    "        print('Документ не найден в базе')\n",
    "        \n",
    "command = 0           \n",
    "while command != 'q' :\n",
    "    command = input('Введите команду: ')\n",
    "    if command =='s':\n",
    "        print(s(directories))\n",
    "    elif command == 'q':\n",
    "        print('Вы завершили работу. До свидания!')\n",
    "    \n",
    "    else:\n",
    "        print('Введена неверная команда !')   "
   ]
  },
  {
   "cell_type": "markdown",
   "metadata": {},
   "source": [
    "### Пункт 3"
   ]
  },
  {
   "cell_type": "code",
   "execution_count": 422,
   "metadata": {},
   "outputs": [
    {
     "name": "stdout",
     "output_type": "stream",
     "text": [
      "Введите команду: l\n",
      "№ 2207 876234 , тип:  passport , владелец:  Василий Гупкин , полка хранения:  1\n",
      "№ 11-2 , тип:  invoice , владелец:  Геннадий Покемонов , полка хранения:  1\n",
      "№ 10006 , тип:  insurance , владелец:  Аристарх Павлов , полка хранения:  2\n",
      "None\n",
      "Введите команду: w\n",
      "Введена неверная команда !\n",
      "Введите команду: q\n",
      "Вы завершили работу. До свидания!\n"
     ]
    }
   ],
   "source": [
    "def get_key(d, value):\n",
    "    for k, v in d.items():\n",
    "        if value in v:\n",
    "            return k\n",
    "\n",
    "def l(documents):\n",
    "    for x in documents:\n",
    "        print('№', x['number'],',', 'тип: ', x['type'],',', 'владелец: ', x['name'],',', \n",
    "              'полка хранения: ', get_key(directories, x['number']))\n",
    "\n",
    "command = 0           \n",
    "while command != 'q' :\n",
    "    command = input('Введите команду: ')\n",
    "    if command =='l':\n",
    "        print(l(documents))           \n",
    "    \n",
    "    elif command == 'q':\n",
    "        print('Вы завершили работу. До свидания!')\n",
    "    \n",
    "    else:\n",
    "        print('Введена неверная команда !')\n"
   ]
  },
  {
   "cell_type": "markdown",
   "metadata": {},
   "source": [
    "### Пункт 4"
   ]
  },
  {
   "cell_type": "code",
   "execution_count": 423,
   "metadata": {},
   "outputs": [
    {
     "name": "stdout",
     "output_type": "stream",
     "text": [
      "Введите команду: as\n",
      "Введите номер полки: 303\n",
      "Полка добавлена. Текущий перечень полок:, 1, 2, 3, 236, 78, 303\n",
      "None\n",
      "Введите команду: w\n",
      "Введена неверная команда !\n",
      "Введите команду: q\n",
      "Вы завершили работу. До свидания!\n"
     ]
    }
   ],
   "source": [
    "def add(directories):\n",
    "    num_polki = input('Введите номер полки: ')\n",
    "    directories[num_polki] = []\n",
    "    return print('Полка добавлена. Текущий перечень полок:',*list(directories.keys()), \n",
    "                 sep= (', '))\n",
    "\n",
    "command = 0           \n",
    "while command != 'q' :\n",
    "    command = input('Введите команду: ')\n",
    "    if command == 'as': \n",
    "        print(add(directories))\n",
    "    elif command == 'q':\n",
    "        print('Вы завершили работу. До свидания!')\n",
    "    \n",
    "    else:\n",
    "        print('Введена неверная команда !') "
   ]
  },
  {
   "cell_type": "markdown",
   "metadata": {},
   "source": [
    "### Пункт 5\n"
   ]
  },
  {
   "cell_type": "code",
   "execution_count": 424,
   "metadata": {},
   "outputs": [
    {
     "name": "stdout",
     "output_type": "stream",
     "text": [
      "Введите команду: ds\n",
      "Введите номер полки: 44\n",
      "Такой полки не существует. Текущий перечень полок:, 1, 2, 3, 236, 78, 303\n",
      "None\n",
      "Введите команду: ds\n",
      "Введите номер полки: 78\n",
      "Полка удалена. Текущий перечень полок:, 1, 2, 3, 236, 303\n",
      "None\n",
      "Введите команду: w\n",
      "Введена неверная команда !\n",
      "Введите команду: q\n",
      "Вы завершили работу. До свидания!\n"
     ]
    }
   ],
   "source": [
    "def del_(directories):\n",
    "    num_polki = input('Введите номер полки: ')\n",
    "    if num_polki not in directories:\n",
    "        return print('Такой полки не существует. Текущий перечень полок:',*list(directories.keys()), \n",
    "                 sep= (', '))\n",
    "    if len(directories[num_polki]) == 0:\n",
    "        del(directories[num_polki])\n",
    "        return print('Полка удалена. Текущий перечень полок:',*list(directories.keys()), \n",
    "                 sep= (', '))\n",
    "        \n",
    "    else:\n",
    "        print('На полке есть документы, удалите их перед удалением полки. Текущий перечень полок:',*list(directories.keys()), \n",
    "                 sep= (', '))\n",
    "    \n",
    "command = 0           \n",
    "while command != 'q' :\n",
    "    command = input('Введите команду: ')\n",
    "    if command == 'ds': \n",
    "        print(del_(directories))\n",
    "    elif command == 'q':\n",
    "        print('Вы завершили работу. До свидания!')\n",
    "    \n",
    "    else:\n",
    "        print('Введена неверная команда !') "
   ]
  }
 ],
 "metadata": {
  "kernelspec": {
   "display_name": "Python 3",
   "language": "python",
   "name": "python3"
  },
  "language_info": {
   "codemirror_mode": {
    "name": "ipython",
    "version": 3
   },
   "file_extension": ".py",
   "mimetype": "text/x-python",
   "name": "python",
   "nbconvert_exporter": "python",
   "pygments_lexer": "ipython3",
   "version": "3.8.5"
  }
 },
 "nbformat": 4,
 "nbformat_minor": 4
}
