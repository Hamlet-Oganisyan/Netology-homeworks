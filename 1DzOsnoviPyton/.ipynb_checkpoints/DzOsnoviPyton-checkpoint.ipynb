{
 "cells": [
  {
   "cell_type": "markdown",
   "metadata": {},
   "source": [
    "## Задание 1"
   ]
  },
  {
   "cell_type": "code",
   "execution_count": 68,
   "metadata": {},
   "outputs": [
    {
     "name": "stdout",
     "output_type": "stream",
     "text": [
      "Фраза 1 длиннее фразы 2\n"
     ]
    }
   ],
   "source": [
    "phrase_1 = 'Насколько проще было бы писать программы, если бы не заказчики'\n",
    "phrase_2 = '640Кб должно хватить для любых задач. Билл Гейтс (по легенде)'\n",
    "if len('Насколько проще было бы писать программы, если бы не заказчики') > len('640Кб должно хватить для любых задач. Билл Гейтс (по легенде)'):\n",
    "    print('Фраза 1 длиннее фразы 2')"
   ]
  },
  {
   "cell_type": "code",
   "execution_count": 70,
   "metadata": {},
   "outputs": [
    {
     "name": "stdout",
     "output_type": "stream",
     "text": [
      "Фраза 2 длиннее фразы 1\n"
     ]
    }
   ],
   "source": [
    "phrase_1 = '640Кб должно хватить для любых задач. Билл Гейтс (по легенде)'\n",
    "phrase_2 = 'Насколько проще было бы писать программы, если бы не заказчики'\n",
    "if len('640Кб должно хватить для любых задач. Билл Гейтс (по легенде)') < len('Насколько проще было бы писать программы, если бы не заказчики'):\n",
    "    print('Фраза 2 длиннее фразы 1')    "
   ]
  },
  {
   "cell_type": "code",
   "execution_count": 23,
   "metadata": {
    "scrolled": true
   },
   "outputs": [
    {
     "name": "stdout",
     "output_type": "stream",
     "text": [
      "Фразы равной длины\n"
     ]
    }
   ],
   "source": [
    "phrase_1 = 'Насколько проще было бы писать программы, если бы не заказчики'\n",
    "phrase_2 = 'Насколько проще было бы писать программы, если бы не заказчики'\n",
    "if len('Насколько проще было бы писать программы, если бы не заказчики') == len('Насколько проще было бы писать программы, если бы не заказчики'):\n",
    "    print('Фразы равной длины')"
   ]
  },
  {
   "cell_type": "code",
   "execution_count": null,
   "metadata": {},
   "outputs": [
    {
     "name": "stdout",
     "output_type": "stream",
     "text": [
      "Чтобы узнать какая из фраз длинее вставьте их в появившееся поле\n",
      "1 Насколько проще было бы писать программы, если бы не заказчики\n",
      "2. 640Кб должно хватить для любых задач. Билл Гейтс (по легенде)\n"
     ]
    }
   ],
   "source": [
    "print('Чтобы узнать какая из фраз длинее вставьте их в появившееся поле')\n",
    "print('1 Насколько проще было бы писать программы, если бы не заказчики')\n",
    "print('2. 640Кб должно хватить для любых задач. Билл Гейтс (по легенде)')\n",
    "phrase_1 = int(input('Введите первую фразу:'))\n",
    "phrase_2 = int(input('Введите вторую фразу:'))\n",
    "if len(phrase_1) < len(phrase_2):\n",
    "    print('Вторая фраза длиннее')\n",
    "elif len(phrase_1) > len(phrase_2):\n",
    "    print('Первая фраза длиннее')\n",
    "elif len(phrase_1) == len(phrase_2):\n",
    "    print('фразы равной длины')"
   ]
  },
  {
   "cell_type": "markdown",
   "metadata": {},
   "source": [
    "## Задание 2"
   ]
  },
  {
   "cell_type": "code",
   "execution_count": 7,
   "metadata": {},
   "outputs": [
    {
     "name": "stdout",
     "output_type": "stream",
     "text": [
      "Хотите узнать является ли введеный год високосным?\n",
      "Введите год:2024\n",
      "Год високосный\n"
     ]
    }
   ],
   "source": [
    "print('Хотите узнать является ли введеный год високосным?')\n",
    "user_input = int(input('Введите год:'))\n",
    "if user_input % 4 != 0:\n",
    "    print('Год обычныый')\n",
    "elif user_input % 100 == 0:\n",
    "    if user_input % 400 == 0:\n",
    "        print(\"Год високосный\")\n",
    "    else:\n",
    "        print(\"Год обычный\")   \n",
    "else:\n",
    "    print('Год високосный')"
   ]
  },
  {
   "cell_type": "markdown",
   "metadata": {},
   "source": [
    "## Задание 3"
   ]
  },
  {
   "cell_type": "code",
   "execution_count": null,
   "metadata": {},
   "outputs": [],
   "source": [
    "date = int(input('Введите день рождения:'))\n",
    "month = int(input('Введите месяц рождения:'))\n",
    "if (date>=21 and date<=31 and month==3) or(month==4 and date>=1 and date<=19):\n",
    "\n",
    "   print(\"Знак зодиака:Овен\")\n",
    "\n",
    "elif (date>=20 and date<=30 and month==4) or(month==5 and date>=1 and date<=20):\n",
    "\n",
    "   print(\"Знак зодиака:Телец\")\n",
    "\n",
    "elif (date>=21 and date<=31 and month==5) or( month==6 and date>=1 and date<=21):\n",
    "\n",
    "   print(\"Знак зодиака:Близнецы\")\n",
    "\n",
    "elif (date>=22 and date<=30 and month==6) or( month==7 and date>=1 and date<=22):\n",
    "\n",
    "   print(\"Знак зодиака:Рак\")\n",
    "\n",
    "elif (date>=23 and date<=31 and month==7) or(month==8 and date>=1 and date<=22):\n",
    "\n",
    "   print(\"Знак зодиака:Лев\")\n",
    "\n",
    "elif (date>=23 and date<=31 and month==8) or(month==9 and date>=1 and date<=22):\n",
    "\n",
    "   print(\"Знак зодиака:Дева\")\n",
    "\n",
    "elif (date>=23 and date<=30 and month==9) or(month==10 and date>=1 and date<=23):\n",
    "\n",
    "   print(\"Знак зодиака:Весы\")\n",
    "\n",
    "elif (date>=24 and date<=31 and month==10) or(month==11 and date>=1 and date<=22):\n",
    "\n",
    "   print(\"Знак зодиака:Скорпион\")\n",
    "\n",
    "elif (date>=23 and date<=30 and month==11) or(month==12 and date>=1 and date<=21):\n",
    "\n",
    "   print(\"Знак зодиака:Стрелец\")\n",
    "\n",
    "elif (date>=22 and date<=31 and month==12) or(month==1 and date>=1 and date<=20):\n",
    "\n",
    "   print(\"Знак зодиака:Козерог\")\n",
    "\n",
    "elif (date>=21 and date<=31 and month==1) or(month==2 and date>=1 and date<=18):\n",
    "\n",
    "   print(\"Знак зодиака:Водолей\")\n",
    "\n",
    "elif (date>=19 and date<=29 and month==2) or(month==3 and date>=1 and date<=20):\n",
    "\n",
    "   print(\"Знак зодиака:Рыбы\")"
   ]
  },
  {
   "cell_type": "markdown",
   "metadata": {},
   "source": [
    "## Задание 4"
   ]
  },
  {
   "cell_type": "code",
   "execution_count": 22,
   "metadata": {},
   "outputs": [
    {
     "name": "stdout",
     "output_type": "stream",
     "text": [
      "Коробка №3\n"
     ]
    }
   ],
   "source": [
    "width = 15\n",
    "length = 190\n",
    "height = 15\n",
    "if width == length == height == 15:\n",
    "    print('Коробка №1')\n",
    "elif 15 < width < 50 or 15 < length < 50 or 15 < height < 50:\n",
    "    print('Коробка №2')\n",
    "elif length > 200:\n",
    "    print('Ищите упаковку для лыж')\n",
    "else:\n",
    "    print('Коробка №3')"
   ]
  },
  {
   "cell_type": "markdown",
   "metadata": {},
   "source": [
    "## Задание 5"
   ]
  },
  {
   "cell_type": "code",
   "execution_count": 10,
   "metadata": {},
   "outputs": [
    {
     "name": "stdout",
     "output_type": "stream",
     "text": [
      "Введите шестизначный номер билета :147963\n",
      "Билет несчастливый !\n"
     ]
    }
   ],
   "source": [
    "number = int(input('Введите шестизначный номер билета :'))\n",
    "string = str (number)\n",
    "if int(string [0] + string[1] + string [2] == string [3] + string [4] + string [5]):\n",
    "    print('Билет счастливый !') \n",
    "else:   \n",
    "    print('Билет несчастливый !') "
   ]
  },
  {
   "cell_type": "markdown",
   "metadata": {},
   "source": [
    "## Задание 6"
   ]
  },
  {
   "cell_type": "code",
   "execution_count": null,
   "metadata": {},
   "outputs": [
    {
     "name": "stdout",
     "output_type": "stream",
     "text": [
      "Узнайте площадь одной из 3 геометрических фигур: круг, треугольник и прямоугольник\n"
     ]
    }
   ],
   "source": [
    "print('Узнайте площадь одной из 3 геометрических фигур: круг, треугольник и прямоугольник')\n",
    "figure = input('Введите наименование фигуры:')\n",
    "if figure == str ('круг'):\n",
    "    r = float(input('Введите радиус круга в сантиметрах :'))\n",
    "    print('Площадь круга', r**2*3.14, 'см кв.')\n",
    "elif figure == str ('треугольник'):\n",
    "    h = float(input('Введите высоту треугольника в сантиметрах :'))\n",
    "    a = float(input('Введите основание треугольника в сантиметрах :'))\n",
    "    print('Площадь треугольника', 0.5*h*a, 'см кв.')\n",
    "elif figure == str ('прямоугольник'):\n",
    "    a = float(input('Введите сторону \"A\" в сантиметрах :'))\n",
    "    b = float(input('Введите сторону \"В\" сантиметрах :'))\n",
    "    print('Площадь прямоугольника', a*b, 'см кв.')\n",
    "else: \n",
    "    print('Введена неверная фигура')"
   ]
  },
  {
   "cell_type": "code",
   "execution_count": null,
   "metadata": {},
   "outputs": [],
   "source": []
  }
 ],
 "metadata": {
  "kernelspec": {
   "display_name": "Python 3",
   "language": "python",
   "name": "python3"
  },
  "language_info": {
   "codemirror_mode": {
    "name": "ipython",
    "version": 3
   },
   "file_extension": ".py",
   "mimetype": "text/x-python",
   "name": "python",
   "nbconvert_exporter": "python",
   "pygments_lexer": "ipython3",
   "version": "3.8.5"
  }
 },
 "nbformat": 4,
 "nbformat_minor": 4
}
